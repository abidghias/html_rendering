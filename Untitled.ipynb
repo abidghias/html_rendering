{
 "cells": [
  {
   "cell_type": "code",
   "execution_count": 1,
   "id": "8020ade9",
   "metadata": {},
   "outputs": [
    {
     "name": "stdout",
     "output_type": "stream",
     "text": [
      "Collecting render-web==0.0.1\n",
      "  Downloading render_web-0.0.1-py3-none-any.whl (2.3 kB)\n",
      "Requirement already satisfied: ipython in c:\\users\\zakia\\anaconda3\\lib\\site-packages (from render-web==0.0.1) (7.29.0)\n",
      "Requirement already satisfied: setuptools>=18.5 in c:\\users\\zakia\\anaconda3\\lib\\site-packages (from ipython->render-web==0.0.1) (58.0.4)\n",
      "Requirement already satisfied: colorama in c:\\users\\zakia\\anaconda3\\lib\\site-packages (from ipython->render-web==0.0.1) (0.4.4)\n",
      "Requirement already satisfied: backcall in c:\\users\\zakia\\anaconda3\\lib\\site-packages (from ipython->render-web==0.0.1) (0.2.0)\n",
      "Requirement already satisfied: pickleshare in c:\\users\\zakia\\anaconda3\\lib\\site-packages (from ipython->render-web==0.0.1) (0.7.5)\n",
      "Requirement already satisfied: jedi>=0.16 in c:\\users\\zakia\\anaconda3\\lib\\site-packages (from ipython->render-web==0.0.1) (0.18.0)\n",
      "Requirement already satisfied: matplotlib-inline in c:\\users\\zakia\\anaconda3\\lib\\site-packages (from ipython->render-web==0.0.1) (0.1.2)\n",
      "Requirement already satisfied: pygments in c:\\users\\zakia\\anaconda3\\lib\\site-packages (from ipython->render-web==0.0.1) (2.10.0)\n",
      "Requirement already satisfied: decorator in c:\\users\\zakia\\anaconda3\\lib\\site-packages (from ipython->render-web==0.0.1) (5.1.0)\n",
      "Requirement already satisfied: traitlets>=4.2 in c:\\users\\zakia\\anaconda3\\lib\\site-packages (from ipython->render-web==0.0.1) (5.1.0)\n",
      "Requirement already satisfied: prompt-toolkit!=3.0.0,!=3.0.1,<3.1.0,>=2.0.0 in c:\\users\\zakia\\anaconda3\\lib\\site-packages (from ipython->render-web==0.0.1) (3.0.20)\n",
      "Requirement already satisfied: parso<0.9.0,>=0.8.0 in c:\\users\\zakia\\anaconda3\\lib\\site-packages (from jedi>=0.16->ipython->render-web==0.0.1) (0.8.2)\n",
      "Requirement already satisfied: wcwidth in c:\\users\\zakia\\anaconda3\\lib\\site-packages (from prompt-toolkit!=3.0.0,!=3.0.1,<3.1.0,>=2.0.0->ipython->render-web==0.0.1) (0.2.5)\n",
      "Installing collected packages: render-web\n",
      "Successfully installed render-web-0.0.1\n"
     ]
    }
   ],
   "source": [
    "!pip install render-web==0.0.1\n"
   ]
  },
  {
   "cell_type": "code",
   "execution_count": 3,
   "id": "095c1249",
   "metadata": {},
   "outputs": [
    {
     "ename": "SyntaxError",
     "evalue": "invalid syntax (Temp/ipykernel_11348/1959279937.py, line 1)",
     "output_type": "error",
     "traceback": [
      "\u001b[1;36m  File \u001b[1;32m\"C:\\Users\\zakia\\AppData\\Local\\Temp/ipykernel_11348/1959279937.py\"\u001b[1;36m, line \u001b[1;32m1\u001b[0m\n\u001b[1;33m    from render_web install render_site\u001b[0m\n\u001b[1;37m                    ^\u001b[0m\n\u001b[1;31mSyntaxError\u001b[0m\u001b[1;31m:\u001b[0m invalid syntax\n"
     ]
    }
   ],
   "source": [
    "from render_web install render_site"
   ]
  },
  {
   "cell_type": "code",
   "execution_count": 4,
   "id": "9c69ceb9",
   "metadata": {},
   "outputs": [
    {
     "ename": "ModuleNotFoundError",
     "evalue": "No module named 'src.rendner_web'",
     "output_type": "error",
     "traceback": [
      "\u001b[1;31m---------------------------------------------------------------------------\u001b[0m",
      "\u001b[1;31mModuleNotFoundError\u001b[0m                       Traceback (most recent call last)",
      "\u001b[1;32m~\\AppData\\Local\\Temp/ipykernel_11348/1795090749.py\u001b[0m in \u001b[0;36m<module>\u001b[1;34m\u001b[0m\n\u001b[1;32m----> 1\u001b[1;33m \u001b[1;32mfrom\u001b[0m \u001b[0msrc\u001b[0m\u001b[1;33m.\u001b[0m\u001b[0mrendner_web\u001b[0m \u001b[1;32mimport\u001b[0m \u001b[0mrender_site\u001b[0m\u001b[1;33m\u001b[0m\u001b[1;33m\u001b[0m\u001b[0m\n\u001b[0m",
      "\u001b[1;31mModuleNotFoundError\u001b[0m: No module named 'src.rendner_web'"
     ]
    }
   ],
   "source": [
    "from src.rendner_web import render_site"
   ]
  },
  {
   "cell_type": "code",
   "execution_count": 5,
   "id": "8f2b9d45",
   "metadata": {},
   "outputs": [],
   "source": [
    "from src.render_web import render_site"
   ]
  },
  {
   "cell_type": "code",
   "execution_count": 6,
   "id": "42b5478d",
   "metadata": {},
   "outputs": [
    {
     "data": {
      "text/html": [
       "\n",
       "        <iframe\n",
       "            width=\"100%\"\n",
       "            height=\"600\"\n",
       "            src=\"https://packaging.python.org/en/latest/guides/using-testpypi/\"\n",
       "            frameborder=\"0\"\n",
       "            allowfullscreen\n",
       "            \n",
       "        ></iframe>\n",
       "        "
      ],
      "text/plain": [
       "<IPython.lib.display.IFrame at 0x23f60587790>"
      ]
     },
     "metadata": {},
     "output_type": "display_data"
    },
    {
     "name": "stdout",
     "output_type": "stream",
     "text": [
      "\n",
      "\n",
      "\n",
      "\n"
     ]
    }
   ],
   "source": [
    "render_site(\"https://packaging.python.org/en/latest/guides/using-testpypi/\")"
   ]
  },
  {
   "cell_type": "code",
   "execution_count": null,
   "id": "8ff0f5c5",
   "metadata": {},
   "outputs": [],
   "source": []
  }
 ],
 "metadata": {
  "kernelspec": {
   "display_name": "Python 3 (ipykernel)",
   "language": "python",
   "name": "python3"
  },
  "language_info": {
   "codemirror_mode": {
    "name": "ipython",
    "version": 3
   },
   "file_extension": ".py",
   "mimetype": "text/x-python",
   "name": "python",
   "nbconvert_exporter": "python",
   "pygments_lexer": "ipython3",
   "version": "3.9.7"
  }
 },
 "nbformat": 4,
 "nbformat_minor": 5
}
